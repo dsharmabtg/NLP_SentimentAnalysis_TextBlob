{
 "cells": [
  {
   "cell_type": "code",
   "execution_count": 1,
   "metadata": {},
   "outputs": [
    {
     "name": "stdout",
     "output_type": "stream",
     "text": [
      "Requirement already satisfied: textblob in c:\\users\\dell\\anaconda3_6\\lib\\site-packages (0.17.1)\n",
      "Requirement already satisfied: nltk>=3.1 in c:\\users\\dell\\anaconda3_6\\lib\\site-packages (from textblob) (3.3)\n",
      "Requirement already satisfied: six in c:\\users\\dell\\anaconda3_6\\lib\\site-packages (from nltk>=3.1->textblob) (1.15.0)\n"
     ]
    },
    {
     "name": "stderr",
     "output_type": "stream",
     "text": [
      "WARNING: Ignoring invalid distribution -umpy (c:\\users\\dell\\anaconda3_6\\lib\\site-packages)\n",
      "WARNING: Ignoring invalid distribution -umpy (c:\\users\\dell\\anaconda3_6\\lib\\site-packages)\n",
      "WARNING: Ignoring invalid distribution -umpy (c:\\users\\dell\\anaconda3_6\\lib\\site-packages)\n",
      "WARNING: Ignoring invalid distribution -umpy (c:\\users\\dell\\anaconda3_6\\lib\\site-packages)\n",
      "WARNING: Ignoring invalid distribution -umpy (c:\\users\\dell\\anaconda3_6\\lib\\site-packages)\n"
     ]
    }
   ],
   "source": [
    "!pip install textblob"
   ]
  },
  {
   "cell_type": "code",
   "execution_count": 2,
   "metadata": {},
   "outputs": [],
   "source": [
    "from textblob import TextBlob\n",
    "from textblob import Word\n",
    "from textblob.taggers import NLTKTagger\n",
    "from textblob.translate import Translator\n",
    "\n",
    "import warnings\n",
    "warnings.filterwarnings(\"ignore\")"
   ]
  },
  {
   "cell_type": "markdown",
   "metadata": {},
   "source": [
    "## Spelling correction"
   ]
  },
  {
   "cell_type": "code",
   "execution_count": 4,
   "metadata": {},
   "outputs": [
    {
     "name": "stdout",
     "output_type": "stream",
     "text": [
      "The quick brown fox jump over the lazy dog\n"
     ]
    }
   ],
   "source": [
    "#make corrections from overr to over\n",
    "r = TextBlob(\"The quick brown fox jump over the lazy dog\")\n",
    "print(r.correct())"
   ]
  },
  {
   "cell_type": "code",
   "execution_count": 6,
   "metadata": {},
   "outputs": [
    {
     "name": "stdout",
     "output_type": "stream",
     "text": [
      "The boy had gone to market\n"
     ]
    }
   ],
   "source": [
    "#make corrections from markeet to market\n",
    "r = TextBlob(\"The boy hadd gone to markeet\")\n",
    "print(r.correct())"
   ]
  },
  {
   "cell_type": "markdown",
   "metadata": {},
   "source": [
    "## Counting word occurences"
   ]
  },
  {
   "cell_type": "code",
   "execution_count": 8,
   "metadata": {},
   "outputs": [
    {
     "name": "stdout",
     "output_type": "stream",
     "text": [
      "[nltk_data] Downloading package brown to\n",
      "[nltk_data]     C:\\Users\\Dell\\AppData\\Roaming\\nltk_data...\n",
      "[nltk_data]   Unzipping corpora\\brown.zip.\n",
      "[nltk_data] Downloading package punkt to\n",
      "[nltk_data]     C:\\Users\\Dell\\AppData\\Roaming\\nltk_data...\n",
      "[nltk_data]   Unzipping tokenizers\\punkt.zip.\n",
      "[nltk_data] Downloading package wordnet to\n",
      "[nltk_data]     C:\\Users\\Dell\\AppData\\Roaming\\nltk_data...\n",
      "[nltk_data] Downloading package averaged_perceptron_tagger to\n",
      "[nltk_data]     C:\\Users\\Dell\\AppData\\Roaming\\nltk_data...\n",
      "[nltk_data]   Unzipping taggers\\averaged_perceptron_tagger.zip.\n",
      "[nltk_data] Downloading package conll2000 to\n",
      "[nltk_data]     C:\\Users\\Dell\\AppData\\Roaming\\nltk_data...\n",
      "[nltk_data]   Unzipping corpora\\conll2000.zip.\n",
      "[nltk_data] Downloading package movie_reviews to\n",
      "[nltk_data]     C:\\Users\\Dell\\AppData\\Roaming\\nltk_data...\n",
      "[nltk_data]   Unzipping corpora\\movie_reviews.zip.\n",
      "Finished.\n"
     ]
    }
   ],
   "source": [
    "!python -m textblob.download_corpora"
   ]
  },
  {
   "cell_type": "code",
   "execution_count": 9,
   "metadata": {},
   "outputs": [
    {
     "name": "stdout",
     "output_type": "stream",
     "text": [
      "2\n"
     ]
    }
   ],
   "source": [
    "#count the number of word occurences of word (dog)\n",
    "r = TextBlob(\"The quick brown fox jump over the lazy dog and the Dog and cat were at the cat's home\")\n",
    "print(r.words.count('dog'))"
   ]
  },
  {
   "cell_type": "code",
   "execution_count": 10,
   "metadata": {},
   "outputs": [
    {
     "name": "stdout",
     "output_type": "stream",
     "text": [
      "2\n"
     ]
    }
   ],
   "source": [
    "print(r.words.count('cat'))"
   ]
  },
  {
   "cell_type": "code",
   "execution_count": 11,
   "metadata": {},
   "outputs": [
    {
     "name": "stdout",
     "output_type": "stream",
     "text": [
      "4\n"
     ]
    }
   ],
   "source": [
    "print(r.words.count('the'))"
   ]
  },
  {
   "cell_type": "code",
   "execution_count": 12,
   "metadata": {},
   "outputs": [
    {
     "name": "stdout",
     "output_type": "stream",
     "text": [
      "1\n"
     ]
    }
   ],
   "source": [
    "print(r.words.count('dog', case_sensitive=True))"
   ]
  },
  {
   "cell_type": "code",
   "execution_count": 13,
   "metadata": {},
   "outputs": [
    {
     "name": "stdout",
     "output_type": "stream",
     "text": [
      "3\n"
     ]
    }
   ],
   "source": [
    "print(r.words.count('the', case_sensitive=True))"
   ]
  },
  {
   "cell_type": "markdown",
   "metadata": {},
   "source": [
    "## Lemmatization breaks words into their root form"
   ]
  },
  {
   "cell_type": "code",
   "execution_count": 14,
   "metadata": {},
   "outputs": [
    {
     "name": "stdout",
     "output_type": "stream",
     "text": [
      "e= go\n"
     ]
    }
   ],
   "source": [
    "e = Word('went')\n",
    "print('e=', e.lemmatize(\"v\"))"
   ]
  },
  {
   "cell_type": "code",
   "execution_count": 15,
   "metadata": {},
   "outputs": [
    {
     "name": "stdout",
     "output_type": "stream",
     "text": [
      "u= octopus\n"
     ]
    }
   ],
   "source": [
    "u = Word('octopi')\n",
    "print('u=', u.lemmatize())"
   ]
  },
  {
   "cell_type": "code",
   "execution_count": 18,
   "metadata": {},
   "outputs": [
    {
     "name": "stdout",
     "output_type": "stream",
     "text": [
      "w= begin\n"
     ]
    }
   ],
   "source": [
    "w = Word('begun')\n",
    "print('w=', w.lemmatize(\"v\"))"
   ]
  },
  {
   "cell_type": "markdown",
   "metadata": {},
   "source": [
    "## Tokenization breaks text into either their various words or sentences"
   ]
  },
  {
   "cell_type": "code",
   "execution_count": 19,
   "metadata": {},
   "outputs": [
    {
     "name": "stdout",
     "output_type": "stream",
     "text": [
      "['The', 'quick', 'brown', 'fox', 'jump', 'over', 'the', 'lazy', 'dog', 'and', 'the', 'Dog', 'and', 'cat', 'were', 'at', 'the', 'cat', \"'s\", 'home']\n"
     ]
    }
   ],
   "source": [
    "#print the text into various words\n",
    "m = TextBlob(\"The quick brown fox jump over the lazy dog and the Dog and cat were at the cat's home\")\n",
    "print(m.words)"
   ]
  },
  {
   "cell_type": "code",
   "execution_count": 20,
   "metadata": {},
   "outputs": [
    {
     "name": "stdout",
     "output_type": "stream",
     "text": [
      "[Sentence(\"The quick brown fox jump over the lazy dog and the Dog and cat were at the cat's home.\"), Sentence(\"Python is great programming language.\"), Sentence(\"Simple living high thinking\")]\n"
     ]
    }
   ],
   "source": [
    "#print the text into various sentences\n",
    "y = TextBlob(\"The quick brown fox jump over the lazy dog and the Dog and cat were at the cat's home. Python is great programming language. Simple living high thinking\")\n",
    "print(y.sentences)"
   ]
  },
  {
   "cell_type": "code",
   "execution_count": 21,
   "metadata": {},
   "outputs": [
    {
     "name": "stdout",
     "output_type": "stream",
     "text": [
      "['quick brown fox', 'lazy dog', 'dog', \"cat 's home\", 'python', 'simple']\n"
     ]
    }
   ],
   "source": [
    "#find the noun phrase\n",
    "#print the text into various sentences\n",
    "i = TextBlob(\"The quick brown fox jump over the lazy dog and the Dog and cat were at the cat's home. Python is great programming language. Simple living high thinking\")\n",
    "print(i.noun_phrases)"
   ]
  },
  {
   "cell_type": "code",
   "execution_count": 26,
   "metadata": {},
   "outputs": [
    {
     "name": "stdout",
     "output_type": "stream",
     "text": [
      "['cats', 'dogs', 'goats', 'octopodes', 'children', 'men', 'ladies']\n"
     ]
    }
   ],
   "source": [
    "#makes word plural\n",
    "animals = TextBlob(\" cat dog goat octopus child man lady\")\n",
    "print(animals.words.pluralize())"
   ]
  },
  {
   "cell_type": "markdown",
   "metadata": {},
   "source": [
    "## Bigrams ngrams, trigrams"
   ]
  },
  {
   "cell_type": "markdown",
   "metadata": {},
   "source": [
    "Breaks text/sentences into various parts either in three, two or any specified number"
   ]
  },
  {
   "cell_type": "code",
   "execution_count": 27,
   "metadata": {},
   "outputs": [
    {
     "name": "stdout",
     "output_type": "stream",
     "text": [
      "[WordList(['The', 'quick']), WordList(['quick', 'brown']), WordList(['brown', 'fox']), WordList(['fox', 'jump']), WordList(['jump', 'over']), WordList(['over', 'the']), WordList(['the', 'lazy']), WordList(['lazy', 'dog']), WordList(['dog', 'and']), WordList(['and', 'the']), WordList(['the', 'Dog']), WordList(['Dog', 'and']), WordList(['and', 'cat']), WordList(['cat', 'were']), WordList(['were', 'at']), WordList(['at', 'the']), WordList(['the', 'cat']), WordList(['cat', \"'s\"]), WordList([\"'s\", 'home']), WordList(['home', 'Python']), WordList(['Python', 'is']), WordList(['is', 'great']), WordList(['great', 'programming']), WordList(['programming', 'language']), WordList(['language', 'Simple']), WordList(['Simple', 'living']), WordList(['living', 'high']), WordList(['high', 'thinking'])]\n"
     ]
    }
   ],
   "source": [
    "#Break the sentence into bigrams\n",
    "w = TextBlob(\"The quick brown fox jump over the lazy dog and the Dog and cat were at the cat's home. Python is great programming language. Simple living high thinking\")\n",
    "print(w.ngrams(2))"
   ]
  },
  {
   "cell_type": "code",
   "execution_count": 28,
   "metadata": {},
   "outputs": [
    {
     "name": "stdout",
     "output_type": "stream",
     "text": [
      "[WordList(['The', 'quick', 'brown']), WordList(['quick', 'brown', 'fox']), WordList(['brown', 'fox', 'jump']), WordList(['fox', 'jump', 'over']), WordList(['jump', 'over', 'the']), WordList(['over', 'the', 'lazy']), WordList(['the', 'lazy', 'dog']), WordList(['lazy', 'dog', 'and']), WordList(['dog', 'and', 'the']), WordList(['and', 'the', 'Dog']), WordList(['the', 'Dog', 'and']), WordList(['Dog', 'and', 'cat']), WordList(['and', 'cat', 'were']), WordList(['cat', 'were', 'at']), WordList(['were', 'at', 'the']), WordList(['at', 'the', 'cat']), WordList(['the', 'cat', \"'s\"]), WordList(['cat', \"'s\", 'home']), WordList([\"'s\", 'home', 'Python']), WordList(['home', 'Python', 'is']), WordList(['Python', 'is', 'great']), WordList(['is', 'great', 'programming']), WordList(['great', 'programming', 'language']), WordList(['programming', 'language', 'Simple']), WordList(['language', 'Simple', 'living']), WordList(['Simple', 'living', 'high']), WordList(['living', 'high', 'thinking'])]\n"
     ]
    }
   ],
   "source": [
    "#Break the sentence into trigrams\n",
    "w = TextBlob(\"The quick brown fox jump over the lazy dog and the Dog and cat were at the cat's home. Python is great programming language. Simple living high thinking\")\n",
    "print(w.ngrams(3))"
   ]
  },
  {
   "cell_type": "code",
   "execution_count": 29,
   "metadata": {},
   "outputs": [
    {
     "name": "stdout",
     "output_type": "stream",
     "text": [
      "[WordList(['The']), WordList(['quick']), WordList(['brown']), WordList(['fox']), WordList(['jump']), WordList(['over']), WordList(['the']), WordList(['lazy']), WordList(['dog']), WordList(['and']), WordList(['the']), WordList(['Dog']), WordList(['and']), WordList(['cat']), WordList(['were']), WordList(['at']), WordList(['the']), WordList(['cat']), WordList([\"'s\"]), WordList(['home']), WordList(['Python']), WordList(['is']), WordList(['great']), WordList(['programming']), WordList(['language']), WordList(['Simple']), WordList(['living']), WordList(['high']), WordList(['thinking'])]\n"
     ]
    }
   ],
   "source": [
    "#Break the sentence into unigrams\n",
    "w = TextBlob(\"The quick brown fox jump over the lazy dog and the Dog and cat were at the cat's home. Python is great programming language. Simple living high thinking\")\n",
    "print(w.ngrams(1))"
   ]
  },
  {
   "cell_type": "code",
   "execution_count": 30,
   "metadata": {},
   "outputs": [
    {
     "name": "stdout",
     "output_type": "stream",
     "text": [
      "[WordList(['The', 'quick', 'brown', 'fox', 'jump', 'over']), WordList(['quick', 'brown', 'fox', 'jump', 'over', 'the']), WordList(['brown', 'fox', 'jump', 'over', 'the', 'lazy']), WordList(['fox', 'jump', 'over', 'the', 'lazy', 'dog']), WordList(['jump', 'over', 'the', 'lazy', 'dog', 'and']), WordList(['over', 'the', 'lazy', 'dog', 'and', 'the']), WordList(['the', 'lazy', 'dog', 'and', 'the', 'Dog']), WordList(['lazy', 'dog', 'and', 'the', 'Dog', 'and']), WordList(['dog', 'and', 'the', 'Dog', 'and', 'cat']), WordList(['and', 'the', 'Dog', 'and', 'cat', 'were']), WordList(['the', 'Dog', 'and', 'cat', 'were', 'at']), WordList(['Dog', 'and', 'cat', 'were', 'at', 'the']), WordList(['and', 'cat', 'were', 'at', 'the', 'cat']), WordList(['cat', 'were', 'at', 'the', 'cat', \"'s\"]), WordList(['were', 'at', 'the', 'cat', \"'s\", 'home']), WordList(['at', 'the', 'cat', \"'s\", 'home', 'Python']), WordList(['the', 'cat', \"'s\", 'home', 'Python', 'is']), WordList(['cat', \"'s\", 'home', 'Python', 'is', 'great']), WordList([\"'s\", 'home', 'Python', 'is', 'great', 'programming']), WordList(['home', 'Python', 'is', 'great', 'programming', 'language']), WordList(['Python', 'is', 'great', 'programming', 'language', 'Simple']), WordList(['is', 'great', 'programming', 'language', 'Simple', 'living']), WordList(['great', 'programming', 'language', 'Simple', 'living', 'high']), WordList(['programming', 'language', 'Simple', 'living', 'high', 'thinking'])]\n"
     ]
    }
   ],
   "source": [
    "#Break the sentence into six-grams\n",
    "w = TextBlob(\"The quick brown fox jump over the lazy dog and the Dog and cat were at the cat's home. Python is great programming language. Simple living high thinking\")\n",
    "print(w.ngrams(6))"
   ]
  },
  {
   "cell_type": "markdown",
   "metadata": {},
   "source": [
    "## POS: parts of speech tagging"
   ]
  },
  {
   "cell_type": "code",
   "execution_count": 34,
   "metadata": {},
   "outputs": [
    {
     "name": "stdout",
     "output_type": "stream",
     "text": [
      "[('The', 'DT'), ('quick', 'JJ'), ('brown', 'NN'), ('fox', 'JJ'), ('jump', 'NN'), ('over', 'IN'), ('the', 'DT'), ('lazy', 'JJ'), ('dog', 'NN'), ('and', 'CC'), ('the', 'DT'), ('Dog', 'NNP'), ('and', 'CC'), ('cat', 'NN'), ('were', 'VBD'), ('at', 'IN'), ('the', 'DT'), ('cat', 'NN'), (\"'s\", 'POS'), ('home', 'NN'), ('Python', 'NNP'), ('is', 'VBZ'), ('great', 'JJ'), ('programming', 'JJ'), ('language', 'NN'), ('Simple', 'NNP'), ('living', 'VBG'), ('high', 'JJ'), ('thinking', 'NN')]\n"
     ]
    }
   ],
   "source": [
    "w = TextBlob(\"The quick brown fox jump over the lazy dog and the Dog and cat were at the cat's home. Python is great programming language. Simple living high thinking\")\n",
    "print(w.tags)"
   ]
  },
  {
   "cell_type": "code",
   "execution_count": 38,
   "metadata": {},
   "outputs": [
    {
     "name": "stdout",
     "output_type": "stream",
     "text": [
      "[('GameGbay', 'NNP'), (\"'s\", 'POS'), ('CEO', 'NNP'), ('Kelvin', 'NNP'), ('introduces', 'VBZ'), ('a', 'DT'), ('new', 'JJ'), ('gaming', 'NN'), ('empire', 'NN'), ('project', 'NN'), ('in', 'IN'), ('Ghana', 'NNP'), ('and', 'CC'), ('the', 'DT'), ('world', 'NN')]\n"
     ]
    }
   ],
   "source": [
    "nltk_tagger = NLTKTagger()\n",
    "tg = TextBlob(\"GameGbay's CEO Kelvin introduces a new gaming empire project in Ghana and the world\", pos_tagger=nltk_tagger)\n",
    "\n",
    "print(tg.pos_tags)"
   ]
  },
  {
   "cell_type": "code",
   "execution_count": 39,
   "metadata": {},
   "outputs": [
    {
     "name": "stdout",
     "output_type": "stream",
     "text": [
      "GameGbay/NN/B-NP/O '/POS/O/O s/PRP/B-NP/O CEO/NNP/I-NP/O Kelvin/NNP/I-NP/O introduces/VBZ/B-VP/O a/DT/B-NP/O new/JJ/I-NP/O gaming/NN/I-NP/O empire/NN/I-NP/O project/NN/I-NP/O in/IN/B-PP/B-PNP Ghana/NNP/B-NP/I-PNP and/CC/I-NP/I-PNP the/DT/I-NP/I-PNP world/NN/I-NP/I-PNP\n"
     ]
    }
   ],
   "source": [
    "#Parse method analyzes the text made of a sentence of tokens to determine its grammatical structure\n",
    "print(tg.parse())"
   ]
  }
 ],
 "metadata": {
  "kernelspec": {
   "display_name": "Python 3",
   "language": "python",
   "name": "python3"
  },
  "language_info": {
   "codemirror_mode": {
    "name": "ipython",
    "version": 3
   },
   "file_extension": ".py",
   "mimetype": "text/x-python",
   "name": "python",
   "nbconvert_exporter": "python",
   "pygments_lexer": "ipython3",
   "version": "3.6.5"
  }
 },
 "nbformat": 4,
 "nbformat_minor": 2
}
