{
 "cells": [
  {
   "cell_type": "markdown",
   "metadata": {},
   "source": [
    "## Noun Phrases and For Loops in Ngram"
   ]
  },
  {
   "cell_type": "code",
   "execution_count": 1,
   "metadata": {},
   "outputs": [
    {
     "name": "stdout",
     "output_type": "stream",
     "text": [
      "Requirement already satisfied: textblob in c:\\users\\dell\\anaconda3_6\\lib\\site-packages (0.17.1)\n",
      "Requirement already satisfied: nltk>=3.1 in c:\\users\\dell\\anaconda3_6\\lib\\site-packages (from textblob) (3.3)\n",
      "Requirement already satisfied: six in c:\\users\\dell\\anaconda3_6\\lib\\site-packages (from nltk>=3.1->textblob) (1.15.0)\n"
     ]
    },
    {
     "name": "stderr",
     "output_type": "stream",
     "text": [
      "WARNING: Ignoring invalid distribution -umpy (c:\\users\\dell\\anaconda3_6\\lib\\site-packages)\n",
      "WARNING: Ignoring invalid distribution -umpy (c:\\users\\dell\\anaconda3_6\\lib\\site-packages)\n",
      "WARNING: Ignoring invalid distribution -umpy (c:\\users\\dell\\anaconda3_6\\lib\\site-packages)\n",
      "WARNING: Ignoring invalid distribution -umpy (c:\\users\\dell\\anaconda3_6\\lib\\site-packages)\n",
      "WARNING: Ignoring invalid distribution -umpy (c:\\users\\dell\\anaconda3_6\\lib\\site-packages)\n"
     ]
    }
   ],
   "source": [
    "!pip install textblob"
   ]
  },
  {
   "cell_type": "code",
   "execution_count": 2,
   "metadata": {},
   "outputs": [],
   "source": [
    "from textblob import TextBlob\n",
    "from textblob import Word\n",
    "from textblob.taggers import NLTKTagger\n",
    "from textblob.translate import Translator\n",
    "\n",
    "import warnings\n",
    "warnings.filterwarnings(\"ignore\")"
   ]
  },
  {
   "cell_type": "code",
   "execution_count": 4,
   "metadata": {},
   "outputs": [
    {
     "name": "stdout",
     "output_type": "stream",
     "text": [
      "43\n"
     ]
    }
   ],
   "source": [
    "cs = (\"In computer science,artificial intelligence\")\n",
    "print(len(cs))"
   ]
  },
  {
   "cell_type": "code",
   "execution_count": 5,
   "metadata": {},
   "outputs": [],
   "source": [
    "article = (\"\"\"In computer science, artifical intelligence (AI), sometimes called machine intelligence, is intelligence\n",
    "            demonstrated by machines, incontrast to the natural Intelligence displayed in humans and animals. Computer\n",
    "            science defines AI research as the study of \"intelligent agents\": any device that perceives its environment\n",
    "            and takes actions that maximizes its chance of successfully achieving its goals. Colloquially, the term\n",
    "            \"artificial intelligence\" is used to describe machines that mimic \"cognitive\" functions that human associate\n",
    "            with other human minds, such as \"learning\" and \"problem solving.\"\"\")"
   ]
  },
  {
   "cell_type": "code",
   "execution_count": 6,
   "metadata": {},
   "outputs": [
    {
     "name": "stdout",
     "output_type": "stream",
     "text": [
      "computer science\n",
      "artifical intelligence\n",
      "ai\n",
      "machine intelligence\n",
      "intelligence\n",
      "computer\n",
      "science defines\n",
      "ai\n",
      "intelligent agents\n",
      "colloquially\n",
      "artificial intelligence\n",
      "describe machines\n",
      "human minds\n"
     ]
    }
   ],
   "source": [
    "#Noun phrase extraction: extracting phrases that contains nouns\n",
    "tb = TextBlob(article)\n",
    "for noun_phrase in tb.noun_phrases:\n",
    "    print(noun_phrase)"
   ]
  },
  {
   "cell_type": "code",
   "execution_count": 7,
   "metadata": {},
   "outputs": [
    {
     "data": {
      "text/plain": [
       "5"
      ]
     },
     "execution_count": 7,
     "metadata": {},
     "output_type": "execute_result"
    }
   ],
   "source": [
    "#Getting words and phrase counts\n",
    "tb.word_counts['intelligence']"
   ]
  },
  {
   "cell_type": "code",
   "execution_count": 8,
   "metadata": {},
   "outputs": [
    {
     "data": {
      "text/plain": [
       "2"
      ]
     },
     "execution_count": 8,
     "metadata": {},
     "output_type": "execute_result"
    }
   ],
   "source": [
    "tb.word_counts['science']"
   ]
  },
  {
   "cell_type": "code",
   "execution_count": 9,
   "metadata": {},
   "outputs": [
    {
     "data": {
      "text/plain": [
       "5"
      ]
     },
     "execution_count": 9,
     "metadata": {},
     "output_type": "execute_result"
    }
   ],
   "source": [
    "tb.words.count('intelligence')"
   ]
  },
  {
   "cell_type": "code",
   "execution_count": 10,
   "metadata": {},
   "outputs": [
    {
     "data": {
      "text/plain": [
       "4"
      ]
     },
     "execution_count": 10,
     "metadata": {},
     "output_type": "execute_result"
    }
   ],
   "source": [
    "tb.words.count('intelligence',case_sensitive=True)"
   ]
  },
  {
   "cell_type": "code",
   "execution_count": 11,
   "metadata": {},
   "outputs": [
    {
     "data": {
      "text/plain": [
       "5"
      ]
     },
     "execution_count": 11,
     "metadata": {},
     "output_type": "execute_result"
    }
   ],
   "source": [
    "tb.words.count('intelligence',case_sensitive=False)"
   ]
  },
  {
   "cell_type": "code",
   "execution_count": 12,
   "metadata": {},
   "outputs": [
    {
     "data": {
      "text/plain": [
       "1"
      ]
     },
     "execution_count": 12,
     "metadata": {},
     "output_type": "execute_result"
    }
   ],
   "source": [
    "tb.noun_phrases.count('artificial intelligence')"
   ]
  },
  {
   "cell_type": "code",
   "execution_count": 13,
   "metadata": {},
   "outputs": [
    {
     "name": "stdout",
     "output_type": "stream",
     "text": [
      "['I', 'love', 'people', 'but']\n",
      "['love', 'people', 'but', 'I']\n",
      "['people', 'but', 'I', 'have']\n",
      "['but', 'I', 'have', 'to']\n",
      "['I', 'have', 'to', 'always']\n",
      "['have', 'to', 'always', 'deal']\n",
      "['to', 'always', 'deal', 'with']\n",
      "['always', 'deal', 'with', 'their']\n",
      "['deal', 'with', 'their', 'emotions']\n",
      "['with', 'their', 'emotions', 'which']\n",
      "['their', 'emotions', 'which', 'is']\n",
      "['emotions', 'which', 'is', 'sometimes']\n",
      "['which', 'is', 'sometimes', 'worrying']\n"
     ]
    }
   ],
   "source": [
    "#n-grams refer to n combination of words in a sentence\n",
    "text = \"I love people, but I have to always deal with their emotions which is sometimes worrying\"\n",
    "cap = TextBlob(text)\n",
    "for ngram in cap.ngrams(4):\n",
    "    print(ngram)"
   ]
  },
  {
   "cell_type": "code",
   "execution_count": null,
   "metadata": {},
   "outputs": [],
   "source": []
  }
 ],
 "metadata": {
  "kernelspec": {
   "display_name": "Python 3",
   "language": "python",
   "name": "python3"
  },
  "language_info": {
   "codemirror_mode": {
    "name": "ipython",
    "version": 3
   },
   "file_extension": ".py",
   "mimetype": "text/x-python",
   "name": "python",
   "nbconvert_exporter": "python",
   "pygments_lexer": "ipython3",
   "version": "3.6.5"
  }
 },
 "nbformat": 4,
 "nbformat_minor": 2
}
